{
 "cells": [
  {
   "cell_type": "code",
   "execution_count": 66,
   "metadata": {},
   "outputs": [
    {
     "data": {
      "text/html": [
       "<div>\n",
       "<style scoped>\n",
       "    .dataframe tbody tr th:only-of-type {\n",
       "        vertical-align: middle;\n",
       "    }\n",
       "\n",
       "    .dataframe tbody tr th {\n",
       "        vertical-align: top;\n",
       "    }\n",
       "\n",
       "    .dataframe thead th {\n",
       "        text-align: right;\n",
       "    }\n",
       "</style>\n",
       "<table border=\"1\" class=\"dataframe\">\n",
       "  <thead>\n",
       "    <tr style=\"text-align: right;\">\n",
       "      <th></th>\n",
       "      <th>0</th>\n",
       "      <th>1</th>\n",
       "    </tr>\n",
       "  </thead>\n",
       "  <tbody>\n",
       "    <tr>\n",
       "      <th>0</th>\n",
       "      <td>Wow... Loved this place.</td>\n",
       "      <td>1</td>\n",
       "    </tr>\n",
       "    <tr>\n",
       "      <th>1</th>\n",
       "      <td>Crust is not good.</td>\n",
       "      <td>0</td>\n",
       "    </tr>\n",
       "    <tr>\n",
       "      <th>2</th>\n",
       "      <td>Not tasty and the texture was just nasty.</td>\n",
       "      <td>0</td>\n",
       "    </tr>\n",
       "    <tr>\n",
       "      <th>3</th>\n",
       "      <td>Stopped by during the late May bank holiday of...</td>\n",
       "      <td>1</td>\n",
       "    </tr>\n",
       "    <tr>\n",
       "      <th>4</th>\n",
       "      <td>The selection on the menu was great and so wer...</td>\n",
       "      <td>1</td>\n",
       "    </tr>\n",
       "  </tbody>\n",
       "</table>\n",
       "</div>"
      ],
      "text/plain": [
       "                                                   0  1\n",
       "0                           Wow... Loved this place.  1\n",
       "1                                 Crust is not good.  0\n",
       "2          Not tasty and the texture was just nasty.  0\n",
       "3  Stopped by during the late May bank holiday of...  1\n",
       "4  The selection on the menu was great and so wer...  1"
      ]
     },
     "execution_count": 66,
     "metadata": {},
     "output_type": "execute_result"
    }
   ],
   "source": [
    "%matplotlib inline\n",
    "import matplotlib.pyplot as plt\n",
    "import pandas as pd\n",
    "import numpy as np\n",
    "import seaborn as sns\n",
    "\n",
    "yelp_raw = pd.read_csv('data/yelp_labelled.txt', delimiter= '\\t', header=None)\n",
    "\n",
    "yelp_raw.head()"
   ]
  },
  {
   "cell_type": "code",
   "execution_count": null,
   "metadata": {},
   "outputs": [],
   "source": [
    "def analyze"
   ]
  },
  {
   "cell_type": "code",
   "execution_count": 67,
   "metadata": {},
   "outputs": [],
   "source": [
    "# set column names\n",
    "df = yelp_raw\n",
    "df.columns = ['message', 'negative']"
   ]
  },
  {
   "cell_type": "code",
   "execution_count": 68,
   "metadata": {},
   "outputs": [],
   "source": [
    "df['negative'] = (df['negative'] == 0)\n",
    "# Note that if you run this cell a second time everything will become false.\n",
    "# So... Don't."
   ]
  },
  {
   "cell_type": "code",
   "execution_count": 69,
   "metadata": {},
   "outputs": [],
   "source": [
    "# replace punctuation \n",
    "df['message'] = df.message.str.replace(r'[^a-zA-Z\\d\\s:]', '')\n",
    "# make lower case\n",
    "df['message'] = df['message'].str.lower()"
   ]
  },
  {
   "cell_type": "code",
   "execution_count": 70,
   "metadata": {},
   "outputs": [],
   "source": [
    "# split negative messages and combine into one list\n",
    "negative_words = df.message[df.negative].str.cat(sep=' ').split()\n",
    "\n",
    "positive_words = df.message[df.negative == False].str.cat(sep=' ').split()"
   ]
  },
  {
   "cell_type": "code",
   "execution_count": 71,
   "metadata": {},
   "outputs": [
    {
     "name": "stdout",
     "output_type": "stream",
     "text": [
      "negative: 1397  positive: 1246\n"
     ]
    }
   ],
   "source": [
    "# Unique Words\n",
    "print('negative:', len(np.unique(negative_words)), ' positive:', len(np.unique(positive_words)))"
   ]
  },
  {
   "cell_type": "code",
   "execution_count": 72,
   "metadata": {},
   "outputs": [
    {
     "data": {
      "text/plain": [
       "array(['the', 'i', 'and', ..., 'oil', 'hands', 'milk'], dtype=object)"
      ]
     },
     "execution_count": 72,
     "metadata": {},
     "output_type": "execute_result"
    }
   ],
   "source": [
    "keywords = pd.Series(negative_words).value_counts().keys().ravel()\n",
    "\n",
    "keywords"
   ]
  },
  {
   "cell_type": "code",
   "execution_count": 73,
   "metadata": {},
   "outputs": [
    {
     "data": {
      "text/plain": [
       "array(['1', '10', '1199', '12', '15', '15lb', '17', '1979', '30', '30s',\n",
       "       '34ths', '35', '400', '40min', '45', '785', '90', 'accountant',\n",
       "       'ache', 'acknowledged', 'actual', 'ahead', 'airline', 'ala',\n",
       "       'albondigas', 'allergy', 'alone', 'although', 'angry',\n",
       "       'anticipated', 'anymore', 'anytime', 'anyways', 'apart',\n",
       "       'apologize', 'apology', 'appalling', 'apparently', 'appealing',\n",
       "       'appetite', 'appetizer', 'apple', 'arent', 'arepas', 'arrives',\n",
       "       'arriving', 'article', 'asked', 'asking', 'atrocious', 'attached',\n",
       "       'attack', 'attention', 'attitudes', 'average', 'avocado', 'avoid',\n",
       "       'avoided', 'awful', 'awkward', 'awkwardly', 'bad', 'ball',\n",
       "       'bamboo', 'banana', 'bare', 'barely', 'based', 'basically',\n",
       "       'batch', 'batter', 'beensteppedinandtrackedeverywhere', 'begin',\n",
       "       'behind', 'bellagio', 'below', 'besides', 'between', 'bigger',\n",
       "       'biggest', 'binge', 'bird', 'bisque', 'bitches', 'bites', 'blah',\n",
       "       'blame', 'bland', 'blandest', 'bloodiest', 'bloody', 'blow',\n",
       "       'blown', 'blows', 'boba', 'bodes', 'boiled', 'boring', 'bother',\n",
       "       'bottom', 'bouchon', 'bought', 'box', 'boy', 'break', 'breaks',\n",
       "       'brisket', 'brother', 'brownish', 'brushfire', 'bug', 'building',\n",
       "       'burned', 'burrittos', 'bus', 'business', 'businesses', 'bussell',\n",
       "       'busy', 'buying', 'bye', 'cakes', 'calamari', 'call', 'callings',\n",
       "       'camelback', 'car', 'carbs', 'carlys', 'cart', 'cartel', 'cash',\n",
       "       'cashew', 'casino', 'caterpillar', 'caught', 'cause', 'certainly',\n",
       "       'chains', 'changing', 'charcoal', 'charge', 'charged', 'cheap',\n",
       "       'cheated', 'chickens', 'chip', 'chipolte', 'chocolate',\n",
       "       'christmas', 'cibo', 'circumstances', 'class', 'classics',\n",
       "       'climbing', 'closed', 'clue', 'coconut', 'coffee', 'college',\n",
       "       'color', 'combo', 'common', 'complete', 'con:', 'concept',\n",
       "       'concern', 'connoisseur', 'consider', 'consistent', 'constructed',\n",
       "       'contain', 'contained', 'cook', 'cooking', 'corporation',\n",
       "       'correct', 'correction', 'cost', 'costcos', 'count', 'coupons',\n",
       "       'covers', 'crab', 'crostini', 'crowd', 'crumby', 'crust', 'crusty',\n",
       "       'cuisine', 'customers', 'dedicated', 'deep', 'deeply', 'del',\n",
       "       'deliver', 'delivery', 'dennys', 'describing', 'descriptions',\n",
       "       'desired', 'despicable', 'despite', 'deuchebaggery', 'difference',\n",
       "       'dime', 'dipping', 'dirt', 'dirty', 'disagree', 'disappointing',\n",
       "       'disappointment', 'disapppointment', 'disaster', 'disbelief',\n",
       "       'disgrace', 'disgraceful', 'disgust', 'disgusted', 'disgusting',\n",
       "       'disrespected', 'doing', 'dollars', 'doubt', 'douchey', 'doughy',\n",
       "       'downright', 'downside', 'drag', 'drastically', 'drawing',\n",
       "       'dressed', 'dried', 'driest', 'drinking', 'dripping', 'dropped',\n",
       "       'drunk', 'dry', 'due', 'easily', 'edible', 'edinburgh', 'editing',\n",
       "       'eel', 'eew', 'effort', 'either', 'elk', 'else', 'elsewhere',\n",
       "       'employee', 'employees', 'ended', 'english', 'ensued', 'entire',\n",
       "       'eve', 'excalibur', 'excuse', 'expensive', 'experiencing', 'eyes',\n",
       "       'fail', 'fails', 'fair', 'fairly', 'falling', 'famous', 'fat',\n",
       "       'favor', 'fear', 'fella', 'fellow', 'figured', 'filet', 'fill',\n",
       "       'final', 'finally', 'fireball', 'five', 'flat', 'flatlined',\n",
       "       'flavorless', 'flop', 'fly', 'focused', 'fondue', 'foodand',\n",
       "       'foods', 'foodservice', 'foot', 'forever', 'forgetting', 'forth',\n",
       "       'forty', 'forward', 'freaking', 'freezing', 'fridays', 'front',\n",
       "       'frozen', 'frustrated', 'fucking', 'furthermore', 'garden', 'gas',\n",
       "       'generic', 'girlfriends', 'given', 'glass', 'gloveseverything',\n",
       "       'godfathers', 'google', 'gordon', 'gotten', 'grab', 'grandmother',\n",
       "       'gratitude', 'grease', 'greasy', 'greatest', 'greedy', 'greens',\n",
       "       'grill', 'gristle', 'grocery', 'gross', 'grossed', 'ground',\n",
       "       'grow', 'guacamole', 'guess', 'guests', 'gyro', 'ha', 'hadnt',\n",
       "       'hair', 'hamburger', 'happened', 'hard', 'hardly', 'hasnt', 'hate',\n",
       "       'hated', 'having', 'head', 'heads', 'hearts', 'heimer', 'hell',\n",
       "       'hello', 'help', 'her', 'herewhat', 'hi', 'hilarious', 'honeslty',\n",
       "       'honor', 'hopefully', 'hopes', 'horrible', 'hospitality', 'host',\n",
       "       'hostess', 'hours', 'however', 'huevos', 'human', 'humiliated',\n",
       "       'hunan', 'hurry', 'hut', 'ians', 'idea', 'ignore', 'ignored',\n",
       "       'imagination', 'imagine', 'imagined', 'impressive', 'inch',\n",
       "       'inconsiderate', 'indicate', 'indoor', 'industry', 'inflate',\n",
       "       'ingredients', 'inspired', 'instantly', 'instead', 'insulted',\n",
       "       'insults', 'into', 'itdefinitely', 'jenni', 'jerk', 'joeys',\n",
       "       'joke', 'judge', 'judging', 'juice', 'kabuki', 'kitchen', 'known',\n",
       "       'lack', 'lacked', 'lady', 'largely', 'law', 'leather', 'leaves',\n",
       "       'leftover', 'legs', 'let', 'letdown', 'lets', 'lettuce', 'liking',\n",
       "       'limited', 'literally', 'live', 'lived', 'location', 'long',\n",
       "       'longer', 'look', 'looking', 'looks', 'lost', 'loudly', 'lover',\n",
       "       'low', 'loyal', 'luck', 'luke', 'lukewarm', 'mac', 'madhouse',\n",
       "       'magazine', 'main', 'mains', 'making', 'man', 'managed',\n",
       "       'management', 'market', 'martini', 'mary', 'maybe', 'mayowell',\n",
       "       'mean', 'means', 'meatballs', 'mebunch', 'mediocre', 'medium',\n",
       "       'meh', 'mellow', 'melted', 'mess', 'mid', 'might', 'mile', 'milk',\n",
       "       'milkshake', 'min', 'mind', 'minutes', 'mirage', 'missing',\n",
       "       'mistake', 'money', 'moods', 'mortified', 'most', 'mostly',\n",
       "       'movies', 'muffin', 'mushroom', 'myself', 'name', 'nasty', 'neat',\n",
       "       'needed', 'needless', 'negligent', 'neither', 'ninja', 'noca',\n",
       "       'noncustomer', 'none', 'noodles', 'nude', 'number', 'nutshell:',\n",
       "       'obviously', 'occasions', 'offered', 'officially', 'oil', 'ok',\n",
       "       'older', 'olives', 'ones', 'opened', 'operation', 'ordering',\n",
       "       'others', 'otherwise', 'outta', 'overcooked', 'overhaul',\n",
       "       'overhip', 'overpriced', 'owned', 'oysters', 'packed', 'paid',\n",
       "       'palate', 'pale', 'palm', 'pan', 'papers', 'par', 'paradise',\n",
       "       'parents', 'particular', 'parties', 'passed', 'patron', 'patty',\n",
       "       'paying', 'peanuts', 'pepperand', 'perhaps', 'petrified',\n",
       "       'picture', 'pile', 'pissd', 'placed', 'plain', 'plantains',\n",
       "       'plater', 'play', 'please', 'poisoning', 'polite', 'poop', 'poor',\n",
       "       'poorly', 'postinos', 'poured', 'prepare', 'prettyoff',\n",
       "       'privileged', 'probably', 'problem', 'proclaimed', 'profound',\n",
       "       'properly', 'pub', 'publicly', 'pucks', 'pured', 'putting',\n",
       "       'qualified', 'quit', 'ramseys', 'ranch', 'rancheros', 'rapidly',\n",
       "       'rarely', 'rate', 'rated', 'rather', 'rating', 'ratio', 'rave',\n",
       "       'raving', 'read', 'readers', 'reading', 'reason', 'reasons',\n",
       "       'recall', 'recommending', 'refill', 'refrained', 'refried',\n",
       "       'refused', 'register', 'reheated', 'relationship', 'relocated',\n",
       "       'remember', 'replenished', 'reservation', 'rest', 'restaraunt',\n",
       "       'restaurants', 'returning', 'reviewer', 'reviewing', 'revisiting',\n",
       "       'ri', 'ridiculous', 'rinse', 'ripped', 'risotto', 'rock', 'rolled',\n",
       "       'rubber', 'rude', 'rudely', 'rushed', 'ryans', 'sad', 'sadly',\n",
       "       'saganaki', 'salt', 'same', 'sangria', 'sashimi', 'sauces',\n",
       "       'sause', 'saying', 'says', 'scene', 'screwed', 'seat', 'seemed',\n",
       "       'seems', 'seen', 'self', 'send', 'sense', 'services', 'sever',\n",
       "       'sewer', 'shall', 'sharply', 'shocked', 'shoe', 'shoots', 'shop',\n",
       "       'short', 'shots', 'should', 'shouldnt', 'show', 'showed', 'shower',\n",
       "       'sick', 'sign', 'signs', 'silently', 'similarly', 'simply',\n",
       "       'single', 'sitting', 'six', 'slow', 'smaller', 'smashburger',\n",
       "       'smeared', 'smelled', 'smells', 'smoke', 'soggy', 'solidify',\n",
       "       'somehow', 'somewhat', 'soooooo', 'sore', 'sorely', 'sorry',\n",
       "       'sound', 'spaghetti', 'specialand', 'spend', 'spends', 'spices',\n",
       "       'spinach', 'spots', 'spotty', 'sprouts', 'stale', 'standard',\n",
       "       'star', 'started', 'starving', 'steakhouse', 'step', 'stepped',\n",
       "       'stinks', 'stomach', 'stood', 'store', 'strange', 'strangers',\n",
       "       'stretch', 'strike', 'strings', 'struck', 'struggle', 'stupid',\n",
       "       'style', 'styrofoam', 'sub', 'suck', 'sucked', 'sucker', 'sucks',\n",
       "       'suffers', 'sugary', 'suggest', 'summary', 'surprised', 'swung',\n",
       "       'tables', 'tailored', 'talking', 'tasteless', 'teeth', 'tempi',\n",
       "       'tenders', 'tepid', 'terrible', 'theft', 'themselves', 'theyd',\n",
       "       'thinking', 'third', 'thirty', 'thoroughly', 'three', 'thru',\n",
       "       'tolerance', 'tomato', 'tonight', 'took', 'tops', 'total',\n",
       "       'totally', 'touched', 'tough', 'towards', 'traditional', 'tragedy',\n",
       "       'trap', 'trippy', 'trying', 'turkey', 'turn', 'under',\n",
       "       'undercooked', 'underservices', 'understand', 'underwhelming',\n",
       "       'unexperienced', 'unfortunately', 'unhealthy', 'uninspired',\n",
       "       'unless', 'unprofessional', 'unsatisfying', 'untoasted',\n",
       "       'unwelcome', 'unwrapped', 'upgrading', 'uploaded', 'use', 'vacant',\n",
       "       'vain', 'valley', 'veal', 'vegasthere', 'ventilation', 'verge',\n",
       "       'version', 'vomited', 'voted', 'waaaaaayyyyyyyyyy', 'waited',\n",
       "       'waiting', 'wanted', 'wants', 'warmer', 'warnings', 'wash',\n",
       "       'wasnt', 'waste', 'wasted', 'wasting', 'watched', 'water',\n",
       "       'watered', 'wave', 'wayyy', 'weak', 'website', 'wedges', 'weekend',\n",
       "       'weird', 'werent', 'weve', 'whatsoever', 'whether', 'why',\n",
       "       'wienerschnitzel', 'wildly', 'wire', 'without', 'witnessed',\n",
       "       'word', 'worker', 'workers', 'workingeating', 'works', 'worlds',\n",
       "       'worries', 'worse', 'worstannoying', 'wouldnt', 'wouldve', 'wound',\n",
       "       'writing', 'wrong:', 'yaall', 'yama', 'yay', 'yeah', 'yelpers',\n",
       "       'yourself', 'yucky', 'yum', 'zero'], dtype=object)"
      ]
     },
     "execution_count": 73,
     "metadata": {},
     "output_type": "execute_result"
    }
   ],
   "source": [
    "diff = np.setdiff1d(\n",
    "        ar1=pd.Series(negative_words).value_counts().keys().ravel(), \n",
    "                      ar2=pd.Series(positive_words).value_counts().keys().ravel()\n",
    "                     )\n",
    "diff"
   ]
  },
  {
   "cell_type": "code",
   "execution_count": 74,
   "metadata": {},
   "outputs": [],
   "source": [
    "new = df\n",
    "keywords = diff\n",
    "\n",
    "for key in keywords:\n",
    "    # Note that we add spaces around the key so that we're getting the word,\n",
    "    # not just pattern matching.\n",
    "    new[str(key)] = new.message.str.contains(\n",
    "        ' ' + str(key) + ' ',\n",
    "        case=False\n",
    "    )"
   ]
  },
  {
   "cell_type": "code",
   "execution_count": 75,
   "metadata": {},
   "outputs": [],
   "source": [
    "data = new[keywords]\n",
    "target = new['negative']"
   ]
  },
  {
   "cell_type": "code",
   "execution_count": 76,
   "metadata": {},
   "outputs": [
    {
     "name": "stdout",
     "output_type": "stream",
     "text": [
      "Number of mislabeled points out of a total 1000 points : 285\n",
      "Accuracy: 71.5%\n"
     ]
    }
   ],
   "source": [
    "# Our data is binary / boolean, so we're importing the Bernoulli classifier.\n",
    "from sklearn.naive_bayes import BernoulliNB\n",
    "\n",
    "# Instantiate our model and store it in a new variable.\n",
    "bnb = BernoulliNB()\n",
    "\n",
    "# Fit our model to the data.\n",
    "bnb.fit(data, target)\n",
    "\n",
    "# Classify, storing the result in a new variable.\n",
    "y_pred = bnb.predict(data)\n",
    "\n",
    "# Display our results.\n",
    "print(\"Number of mislabeled points out of a total {} points : {}\\nAccuracy: {}%\".format(\n",
    "    data.shape[0],\n",
    "    (target != y_pred).sum(), round((1 - (target != y_pred).sum()/data.shape[0]) * 100, 2)\n",
    "))"
   ]
  },
  {
   "cell_type": "code",
   "execution_count": 77,
   "metadata": {},
   "outputs": [
    {
     "data": {
      "text/html": [
       "<div>\n",
       "<style scoped>\n",
       "    .dataframe tbody tr th:only-of-type {\n",
       "        vertical-align: middle;\n",
       "    }\n",
       "\n",
       "    .dataframe tbody tr th {\n",
       "        vertical-align: top;\n",
       "    }\n",
       "\n",
       "    .dataframe thead th {\n",
       "        text-align: right;\n",
       "    }\n",
       "</style>\n",
       "<table border=\"1\" class=\"dataframe\">\n",
       "  <thead>\n",
       "    <tr style=\"text-align: right;\">\n",
       "      <th></th>\n",
       "      <th>0</th>\n",
       "      <th>1</th>\n",
       "    </tr>\n",
       "  </thead>\n",
       "  <tbody>\n",
       "    <tr>\n",
       "      <th>0</th>\n",
       "      <td>A very, very, very slow-moving, aimless movie ...</td>\n",
       "      <td>0</td>\n",
       "    </tr>\n",
       "    <tr>\n",
       "      <th>1</th>\n",
       "      <td>Not sure who was more lost - the flat characte...</td>\n",
       "      <td>0</td>\n",
       "    </tr>\n",
       "    <tr>\n",
       "      <th>2</th>\n",
       "      <td>Attempting artiness with black &amp; white and cle...</td>\n",
       "      <td>0</td>\n",
       "    </tr>\n",
       "    <tr>\n",
       "      <th>3</th>\n",
       "      <td>Very little music or anything to speak of.</td>\n",
       "      <td>0</td>\n",
       "    </tr>\n",
       "    <tr>\n",
       "      <th>4</th>\n",
       "      <td>The best scene in the movie was when Gerardo i...</td>\n",
       "      <td>1</td>\n",
       "    </tr>\n",
       "  </tbody>\n",
       "</table>\n",
       "</div>"
      ],
      "text/plain": [
       "                                                   0  1\n",
       "0  A very, very, very slow-moving, aimless movie ...  0\n",
       "1  Not sure who was more lost - the flat characte...  0\n",
       "2  Attempting artiness with black & white and cle...  0\n",
       "3       Very little music or anything to speak of.    0\n",
       "4  The best scene in the movie was when Gerardo i...  1"
      ]
     },
     "execution_count": 77,
     "metadata": {},
     "output_type": "execute_result"
    }
   ],
   "source": [
    "imdb_raw = pd.read_csv('data/imdb_labelled.txt', delimiter= '\\t', header=None)\n",
    "\n",
    "imdb_raw.head()"
   ]
  },
  {
   "cell_type": "code",
   "execution_count": 78,
   "metadata": {},
   "outputs": [],
   "source": [
    "# set column names\n",
    "imdb_raw.columns = ['message', 'negative']\n",
    "\n",
    "imdb_raw['negative'] = (imdb_raw['negative'] == 0)\n",
    "# Note that if you run this cell a second time everything will become false.\n",
    "# So... Don't.\n"
   ]
  },
  {
   "cell_type": "code",
   "execution_count": 79,
   "metadata": {},
   "outputs": [],
   "source": [
    "df = imdb_raw\n",
    "# replace punctuation \n",
    "df['message'] = df.message.str.replace(r'[^a-zA-Z\\d\\s:]', '')\n",
    "# make lower case\n",
    "df['message'] = df['message'].str.lower()"
   ]
  },
  {
   "cell_type": "code",
   "execution_count": 80,
   "metadata": {},
   "outputs": [],
   "source": [
    "# split negative messages and combine into one list\n",
    "negative_words = df.message[df.negative].str.cat(sep=' ').split()\n",
    "\n",
    "positive_words = df.message[df.negative == False].str.cat(sep=' ').split()"
   ]
  },
  {
   "cell_type": "code",
   "execution_count": 81,
   "metadata": {},
   "outputs": [
    {
     "name": "stdout",
     "output_type": "stream",
     "text": [
      "negative: 1928  positive: 2014\n"
     ]
    }
   ],
   "source": [
    "# Unique Words\n",
    "print('negative:', len(np.unique(negative_words)), ' positive:', len(np.unique(positive_words)))"
   ]
  },
  {
   "cell_type": "code",
   "execution_count": 82,
   "metadata": {},
   "outputs": [
    {
     "data": {
      "text/plain": [
       "array(['the', 'a', 'of', ..., 'loves', 'barney', 'girlfriendboyfriend'],\n",
       "      dtype=object)"
      ]
     },
     "execution_count": 82,
     "metadata": {},
     "output_type": "execute_result"
    }
   ],
   "source": [
    "keywords = pd.Series(negative_words).value_counts().keys().ravel()\n",
    "\n",
    "keywords"
   ]
  },
  {
   "cell_type": "code",
   "execution_count": 83,
   "metadata": {},
   "outputs": [
    {
     "data": {
      "text/plain": [
       "array(['010', '1948', '1971', ..., 'zillion', 'zombiestudents', 'zombiez'],\n",
       "      dtype=object)"
      ]
     },
     "execution_count": 83,
     "metadata": {},
     "output_type": "execute_result"
    }
   ],
   "source": [
    "diff = np.setdiff1d(\n",
    "        ar1=pd.Series(negative_words).value_counts().keys().ravel(), \n",
    "                      ar2=pd.Series(positive_words).value_counts().keys().ravel()\n",
    "                     )\n",
    "diff"
   ]
  },
  {
   "cell_type": "code",
   "execution_count": 84,
   "metadata": {},
   "outputs": [],
   "source": [
    "new = imdb_raw\n",
    "keywords = diff\n",
    "\n",
    "for key in keywords:\n",
    "    # Note that we add spaces around the key so that we're getting the word,\n",
    "    # not just pattern matching.\n",
    "    new[str(key)] = new.message.str.contains(\n",
    "        ' ' + str(key) + ' ',\n",
    "        case=False\n",
    "    )"
   ]
  },
  {
   "cell_type": "code",
   "execution_count": 85,
   "metadata": {},
   "outputs": [],
   "source": [
    "data = new[keywords]\n",
    "target = new['negative']"
   ]
  },
  {
   "cell_type": "code",
   "execution_count": 86,
   "metadata": {},
   "outputs": [
    {
     "name": "stdout",
     "output_type": "stream",
     "text": [
      "Number of mislabeled points out of a total 748 points : 3\n",
      "Accuracy: 99.6%\n"
     ]
    }
   ],
   "source": [
    "# Fit our model to the data.\n",
    "bnb.fit(data, target)\n",
    "\n",
    "# Classify, storing the result in a new variable.\n",
    "y_pred = bnb.predict(data)\n",
    "\n",
    "# Display our results.\n",
    "print(\"Number of mislabeled points out of a total {} points : {}\\nAccuracy: {}%\".format(\n",
    "    data.shape[0],\n",
    "    (target != y_pred).sum(), round((1 - (target != y_pred).sum()/data.shape[0]) * 100, 2)\n",
    "))"
   ]
  },
  {
   "cell_type": "code",
   "execution_count": 107,
   "metadata": {},
   "outputs": [
    {
     "data": {
      "text/html": [
       "<div>\n",
       "<style scoped>\n",
       "    .dataframe tbody tr th:only-of-type {\n",
       "        vertical-align: middle;\n",
       "    }\n",
       "\n",
       "    .dataframe tbody tr th {\n",
       "        vertical-align: top;\n",
       "    }\n",
       "\n",
       "    .dataframe thead th {\n",
       "        text-align: right;\n",
       "    }\n",
       "</style>\n",
       "<table border=\"1\" class=\"dataframe\">\n",
       "  <thead>\n",
       "    <tr style=\"text-align: right;\">\n",
       "      <th></th>\n",
       "      <th>0</th>\n",
       "      <th>1</th>\n",
       "    </tr>\n",
       "  </thead>\n",
       "  <tbody>\n",
       "    <tr>\n",
       "      <th>0</th>\n",
       "      <td>So there is no way for me to plug it in here i...</td>\n",
       "      <td>0</td>\n",
       "    </tr>\n",
       "    <tr>\n",
       "      <th>1</th>\n",
       "      <td>Good case, Excellent value.</td>\n",
       "      <td>1</td>\n",
       "    </tr>\n",
       "    <tr>\n",
       "      <th>2</th>\n",
       "      <td>Great for the jawbone.</td>\n",
       "      <td>1</td>\n",
       "    </tr>\n",
       "    <tr>\n",
       "      <th>3</th>\n",
       "      <td>Tied to charger for conversations lasting more...</td>\n",
       "      <td>0</td>\n",
       "    </tr>\n",
       "    <tr>\n",
       "      <th>4</th>\n",
       "      <td>The mic is great.</td>\n",
       "      <td>1</td>\n",
       "    </tr>\n",
       "  </tbody>\n",
       "</table>\n",
       "</div>"
      ],
      "text/plain": [
       "                                                   0  1\n",
       "0  So there is no way for me to plug it in here i...  0\n",
       "1                        Good case, Excellent value.  1\n",
       "2                             Great for the jawbone.  1\n",
       "3  Tied to charger for conversations lasting more...  0\n",
       "4                                  The mic is great.  1"
      ]
     },
     "execution_count": 107,
     "metadata": {},
     "output_type": "execute_result"
    }
   ],
   "source": [
    "amazon_raw = pd.read_csv('data/amazon_cells_labelled.txt', delimiter= '\\t', header=None)\n",
    "\n",
    "amazon_raw.head()"
   ]
  },
  {
   "cell_type": "code",
   "execution_count": 108,
   "metadata": {},
   "outputs": [],
   "source": [
    "# set column names\n",
    "amazon_raw.columns = ['message', 'negative']\n",
    "\n",
    "amazon_raw['negative'] = (amazon_raw['negative'] == 0)\n",
    "# Note that if you run this cell a second time everything will become false.\n",
    "# So... Don't.\n"
   ]
  },
  {
   "cell_type": "code",
   "execution_count": 109,
   "metadata": {},
   "outputs": [],
   "source": [
    "df = amazon_raw\n",
    "\n",
    "# replace punctuation \n",
    "df['message'] = df.message.str.replace(r'[^a-zA-Z\\d\\s:]', '')\n",
    "# make lower case\n",
    "df['message'] = df['message'].str.lower()"
   ]
  },
  {
   "cell_type": "code",
   "execution_count": 111,
   "metadata": {},
   "outputs": [],
   "source": [
    "# split negative messages and combine into one list\n",
    "negative_words = df.message[df.negative].str.cat(sep=' ').split()\n",
    "\n",
    "positive_words = df.message[df.negative == False].str.cat(sep=' ').split()"
   ]
  },
  {
   "cell_type": "code",
   "execution_count": 112,
   "metadata": {},
   "outputs": [
    {
     "name": "stdout",
     "output_type": "stream",
     "text": [
      "negative: 1293  positive: 1137\n"
     ]
    }
   ],
   "source": [
    "# Unique Words\n",
    "print('negative:', len(np.unique(negative_words)), ' positive:', len(np.unique(positive_words)))"
   ]
  },
  {
   "cell_type": "code",
   "execution_count": 113,
   "metadata": {},
   "outputs": [
    {
     "data": {
      "text/plain": [
       "array(['the', 'i', 'it', ..., 'row', 'nicer', 'excellent'], dtype=object)"
      ]
     },
     "execution_count": 113,
     "metadata": {},
     "output_type": "execute_result"
    }
   ],
   "source": [
    "keywords = pd.Series(negative_words).value_counts().keys().ravel()\n",
    "\n",
    "keywords"
   ]
  },
  {
   "cell_type": "code",
   "execution_count": 114,
   "metadata": {},
   "outputs": [
    {
     "data": {
      "text/plain": [
       "array(['11', '13', '2160', '23', '375', '3o', '45', '4s', '5320', '5of',\n",
       "       '5year', '6', '744', '8', '8125', '8525', 'abhor', 'ability',\n",
       "       'abound', 'above', 'abovepretty', 'absolutel', 'accept',\n",
       "       'acceptable', 'accessory', 'accessoryone', 'accidentally',\n",
       "       'activate', 'activated', 'ad', 'adapter', 'add', 'addition',\n",
       "       'adhesive', 'advise', 'aggravating', 'along', 'although', 'amp',\n",
       "       'angeles', 'angle', 'answer', 'antena', 'anything', 'anyway',\n",
       "       'apartment', 'apparently', 'appealing', 'appearance', 'area',\n",
       "       'arguing', 'asia', 'assumed', 'atleast', 'att', 'auto', 'average',\n",
       "       'avoiding', 'awkward', 'backlight', 'bad', 'balance', 'basement',\n",
       "       'basically', 'be3', 'bed', 'beep', 'beeping', 'believe', 'bells',\n",
       "       'bend', 'bethe', 'beware', 'biggest', 'bills', 'bit', 'bland',\n",
       "       'blew', 'bluetoooth', 'bmw', 'booking', 'boost', 'bother',\n",
       "       'bottom', 'bottowm', 'bougth', 'break', 'breakage', 'breaking',\n",
       "       'breaks', 'broke', 'broken', 'brokeni', 'bt50', 'bucks', 'buds',\n",
       "       'built', 'bumpers', 'button', 'buyer', 'buyerbe', 'buyers',\n",
       "       'buying', 'buyit', 'buzzing', 'ca42', 'calendar', 'card', 'care',\n",
       "       'careful', 'carriers', 'casing', 'cassette', 'caused', 'causing',\n",
       "       'cbr', 'cellphones', 'certain', 'changing', 'charges', 'cheaply',\n",
       "       'check', 'checked', 'childlike', 'chinese', 'cingulair',\n",
       "       'cingular', 'cingularatt', 'clearly', 'clicks', 'colored', 'come',\n",
       "       'coming', 'commercials', 'communicate', 'communications',\n",
       "       'comparablypriced', 'compared', 'compete', 'complain',\n",
       "       'complained', 'complaint', 'confusing', 'connecting', 'constantly',\n",
       "       'constructed', 'consumer', 'contact', 'contacted', 'contacting',\n",
       "       'continue', 'continues', 'contract', 'contstruct', 'conversations',\n",
       "       'converter', 'copy', 'correctly', 'counter', 'counterfeit',\n",
       "       'course', 'cover', 'coverage', 'covered', 'crack', 'crackedi',\n",
       "       'cradle', 'cradles', 'crap', 'crappy', 'crashed', 'crawl',\n",
       "       'creaks', 'cumbersome', 'current', 'currently', 'cuts', 'd807',\n",
       "       'd807wrongly', 'darn', 'dead', 'deaf', 'decade', 'defeats',\n",
       "       'defect', 'defective', 'delay', 'describe', 'designs',\n",
       "       'destination', 'didnt', 'died', 'dieing', 'difficult',\n",
       "       'directions', 'dirty', 'disapoinment', 'disapointing',\n",
       "       'disappoint', 'disappointed', 'disappointing', 'disappointment',\n",
       "       'discarded', 'discomfort', 'disconnected', 'discount',\n",
       "       'disgusting', 'displeased', 'disposable', 'dissapointed',\n",
       "       'dissapointing', 'distorted', 'dit', 'dna', 'dollar', 'double',\n",
       "       'dozen', 'drain', 'drained', 'drains', 'drawback', 'drivng',\n",
       "       'drop', 'dropping', 'due', 'dustpan', 'dying', 'e2', 'e715',\n",
       "       'each', 'earbuds', 'earbugs', 'earlier', 'earpad', 'earphone',\n",
       "       'easily', 'echo', 'else', 'elsewhere', 'embarassing',\n",
       "       'embarrassing', 'ends', 'env', 'ergonomic', 'ericsson',\n",
       "       'essentially', 'europe', 'eventually', 'everywhere', 'except',\n",
       "       'excessive', 'exchange', 'excrutiatingly', 'exercise',\n",
       "       'expectations', 'experience', 'experienced', 'explain', 'external',\n",
       "       'failed', 'fails', 'fairly', 'falling', 'falls', 'father', 'fee',\n",
       "       'felt', 'firstperson', 'flaw', 'flawed', 'flimsy', 'fliptop',\n",
       "       'floor', 'floppy', 'flops', 'flush', 'followed', 'fond', 'fooled',\n",
       "       'forced', 'forgeries', 'forget', 'forgot', 'four', 'fourth',\n",
       "       'freeway', 'freezes', 'frequently4', 'frequentyly', 'frustration',\n",
       "       'fry', 'ft', 'fully', 'fun', 'function', 'games', 'garbage',\n",
       "       'garbled', 'gentletouch', 'genuine', 'gimmick', 'girl', 'giving',\n",
       "       'glued', 'goes', 'goesthe', 'gonna', 'greater', 'grtting', 'guess',\n",
       "       'happened', 'happening', 'happens', 'hat', 'hate', 'hated',\n",
       "       'hearing', 'heavyit', 'hinge', 'hit', 'holder', 'hoped', 'hoping',\n",
       "       'horrible', 'hot', 'hoursthe', 'howeverthe', 'huge', 'humans',\n",
       "       'hundred', 'hurt', 'hype', 'idea', 'imac', 'images', 'imagine',\n",
       "       'immediately', 'impossible', 'improper', 'improve', 'improvement',\n",
       "       'inches', 'incoming', 'indoors', 'industrial', 'inexcusable',\n",
       "       'inexpensive', 'inform', 'infra', 'infuriating', 'insert',\n",
       "       'instance', 'instruction', 'instructions', 'interested',\n",
       "       'interface', 'intermittently', 'irda', 'isnt', 'items', 'itmy',\n",
       "       'jack', 'jerks', 'jiggle', 'joke', 'junk', 'keeps', 'keypads',\n",
       "       'keys', 'killer', 'kitchen', 'kits', 'l7c', 'lap', 'lasted',\n",
       "       'lasting', 'latch', 'later', 'latest', 'laughing', 'leaf', 'leaks',\n",
       "       'learned', 'lense', 'lesson', 'letting', 'lights', 'likes',\n",
       "       'lineanother', 'linksys', 'listening', 'literally', 'lock',\n",
       "       'locked', 'locks', 'longer', 'loops', 'loose', 'looses', 'los',\n",
       "       'lose', 'lost', 'loudspeaker', 'lousy', 'luck', 'magnetic', 'mail',\n",
       "       'mainly', 'maintain', 'majority', 'managed', 'manual',\n",
       "       'manufacturer', 'match', 'material', 'max', 'may', 'means',\n",
       "       'mechanism', 'media', 'mediocre', 'megapixels', 'memory',\n",
       "       'mention', 'mentioned', 'menus', 'mere', 'message', 'messaging',\n",
       "       'messes', 'metal', 'methe', 'microsofts', 'might', 'mind', 'mins',\n",
       "       'minute', 'minutesmajor', 'misleading', 'missed', 'mistake',\n",
       "       'mode', 'model', 'monkeys', 'morning', 'mostly', 'mother',\n",
       "       'moving', 'mp3', 'mp3s', 'muddy', 'muffled', 'multiple', 'music',\n",
       "       'mute', 'nano', 'navigate', 'near', 'needless', 'negatively',\n",
       "       'neither', 'ngage', 'nicer', 'night', 'nightmare', 'noises',\n",
       "       'none', 'note', 'noted', 'nothing', 'noticed', 'numbers', 'odd',\n",
       "       'offering', 'oh', 'ok', 'old', 'once', 'ones', 'onethis', 'onid',\n",
       "       'online', 'onlyi', 'opens', 'operates', 'option', 'originally',\n",
       "       'os', 'override', 'pads', 'painful', 'particular', 'party',\n",
       "       'pause', 'pay', 'pens', 'performed', 'periodically', 'person',\n",
       "       'phonebattery', 'phonemy', 'phones2', 'photo', 'pitiful', 'places',\n",
       "       'planning', 'plans', 'plantronincs', 'player', 'please',\n",
       "       'pleather', 'plugged', 'point', 'poor', 'poorly', 'port',\n",
       "       'possesed', 'possibility', 'potentially', 'practically',\n",
       "       'practice', 'preferably', 'pricing', 'prime', 'problemvery',\n",
       "       'procedure', 'procedures', 'produce', 'products', 'promised',\n",
       "       'properly', 'pros', 'provide', 'puff', 'pull', 'purcashed',\n",
       "       'purpose', 'push', 'pushed', 'quiet', 'randomly', 'rare', 'rated',\n",
       "       'razor', 'reach', 'reaching', 'ready', 'reason', 'reccommend',\n",
       "       'receipt', 'receive', 'receiving', 'recently', 'recessed',\n",
       "       'recharge', 'recieve', 'recognizes', 'refund', 'refurb', 'refuse',\n",
       "       'refused', 'regretted', 'relatively', 'reliability', 'remorse',\n",
       "       'renders', 'reoccurebottom', 'replaced', 'replacementr', 'reset',\n",
       "       'resolution', 'respect', 'restart', 'restocking', 'return',\n",
       "       'returned', 'returning', 'reverse', 'review', 'riingtones',\n",
       "       'ringing', 'rip', 'ripped', 'risk', 'rocketed', 'row',\n",
       "       'rubberpetroleum', 'runs', 'saggy', 'samsungcrap', 'save',\n",
       "       'saying', 'says', 'scary', 'screens', 'screenthis', 'seat',\n",
       "       'securly', 'seeen', 'sensor', 'sent', 'seperated', 'severe',\n",
       "       'share', 'shooters', 'short', 'shouldnt', 'shouting', 'sim',\n",
       "       'sins', 'sitting', 'skip', 'slid', 'slow', 'slowly', 'smartphone',\n",
       "       'smell', 'smoke', 'smoking', 'smudged', 'snap', 'snug', 'somehow',\n",
       "       'somewhere', 'son', 'songs', 'soon', 'sorry', 'soundwise',\n",
       "       'sources', 'soyo', 'speakerphone', 'specially', 'speed', 'spring',\n",
       "       'sprint', 'stand', 'standard', 'stari', 'startac', 'starter',\n",
       "       'starts', 'stated', 'stay', 'steep', 'steer', 'stop', 'stopped',\n",
       "       'stops', 'strange', 'strap', 'strength', 'stress', 'stuck',\n",
       "       'study', 'stupid', 'sucked', 'sucks', 'sudden', 'suddenly',\n",
       "       'sunglasses', 'superfast', 'support', 'supposedly', 'switch',\n",
       "       'sync', 'takes', 'talking', 'tape', 'tech', 'telephone', 'tell',\n",
       "       'terrible', 'texas', 'text', 'theory', 'thereplacement', 'thorn',\n",
       "       'threepack', 'threw', 'tick', 'ticking', 'tied', 'tinny', 'today',\n",
       "       'toilet', 'told', 'tones', 'top', 'totally', 'touch', 'touches',\n",
       "       'tracfone', 'tracking', 'trash', 'tricky', 'truly', 'trust',\n",
       "       'tungsten', 'turned', 'ugly', 'unacceptable', 'unacceptableunless',\n",
       "       'unacceptible', 'unbearable', 'uncomfortable', 'understand',\n",
       "       'unfortunately', 'unhappy', 'unintelligible', 'unit', 'units',\n",
       "       'unknown', 'unless', 'unreliable', 'unsatisfactory', 'until',\n",
       "       'unusable', 'update', 'upgrade', 'upload', 'upstairs', 'useless',\n",
       "       'utter', 'utterly', 'v115g', 'v265', 'v3c', 'v3i', 'vehicle',\n",
       "       'verizons', 'videos', 'visor', 'vx9900', 'waaay', 'wake', 'walked',\n",
       "       'warning', 'warranty', 'waste', 'wasted', 'wasting', 'weak',\n",
       "       'wearing', 'website', 'week', 'weird', 'whatsoever', 'whine',\n",
       "       'whistles', 'wifi', 'wind', 'window', 'windows', 'wiping', 'wired',\n",
       "       'wirefly', 'wires', 'wish', 'wit', 'wobbly', 'wonder', 'wooden',\n",
       "       'word', 'worst', 'worthless', 'wrong', 'wrongfirst', 'yell',\n",
       "       'zero'], dtype=object)"
      ]
     },
     "execution_count": 114,
     "metadata": {},
     "output_type": "execute_result"
    }
   ],
   "source": [
    "diff = np.setdiff1d(\n",
    "        ar1=pd.Series(negative_words).value_counts().keys().ravel(), \n",
    "                      ar2=pd.Series(positive_words).value_counts().keys().ravel()\n",
    "                     )\n",
    "diff"
   ]
  },
  {
   "cell_type": "code",
   "execution_count": 117,
   "metadata": {},
   "outputs": [
    {
     "ename": "AttributeError",
     "evalue": "Can only use .str accessor with string values, which use np.object_ dtype in pandas",
     "output_type": "error",
     "traceback": [
      "\u001b[0;31m---------------------------------------------------------------------------\u001b[0m",
      "\u001b[0;31mAttributeError\u001b[0m                            Traceback (most recent call last)",
      "\u001b[0;32m<ipython-input-117-2bbd34b0d104>\u001b[0m in \u001b[0;36m<module>\u001b[0;34m()\u001b[0m\n\u001b[1;32m      5\u001b[0m     \u001b[0;31m# Note that we add spaces around the key so that we're getting the word,\u001b[0m\u001b[0;34m\u001b[0m\u001b[0;34m\u001b[0m\u001b[0m\n\u001b[1;32m      6\u001b[0m     \u001b[0;31m# not just pattern matching.\u001b[0m\u001b[0;34m\u001b[0m\u001b[0;34m\u001b[0m\u001b[0m\n\u001b[0;32m----> 7\u001b[0;31m     df[str(key)] = df.message.str.contains(\n\u001b[0m\u001b[1;32m      8\u001b[0m         \u001b[0;34m' '\u001b[0m \u001b[0;34m+\u001b[0m \u001b[0mstr\u001b[0m\u001b[0;34m(\u001b[0m\u001b[0mkey\u001b[0m\u001b[0;34m)\u001b[0m \u001b[0;34m+\u001b[0m \u001b[0;34m' '\u001b[0m\u001b[0;34m,\u001b[0m\u001b[0;34m\u001b[0m\u001b[0m\n\u001b[1;32m      9\u001b[0m         \u001b[0mcase\u001b[0m\u001b[0;34m=\u001b[0m\u001b[0;32mFalse\u001b[0m\u001b[0;34m\u001b[0m\u001b[0m\n",
      "\u001b[0;32m~/thinkful-jupyter/feedback-analysis/feedback-analysis/lib/python3.6/site-packages/pandas/core/generic.py\u001b[0m in \u001b[0;36m__getattr__\u001b[0;34m(self, name)\u001b[0m\n\u001b[1;32m   3608\u001b[0m         if (name in self._internal_names_set or name in self._metadata or\n\u001b[1;32m   3609\u001b[0m                 name in self._accessors):\n\u001b[0;32m-> 3610\u001b[0;31m             \u001b[0;32mreturn\u001b[0m \u001b[0mobject\u001b[0m\u001b[0;34m.\u001b[0m\u001b[0m__getattribute__\u001b[0m\u001b[0;34m(\u001b[0m\u001b[0mself\u001b[0m\u001b[0;34m,\u001b[0m \u001b[0mname\u001b[0m\u001b[0;34m)\u001b[0m\u001b[0;34m\u001b[0m\u001b[0m\n\u001b[0m\u001b[1;32m   3611\u001b[0m         \u001b[0;32melse\u001b[0m\u001b[0;34m:\u001b[0m\u001b[0;34m\u001b[0m\u001b[0m\n\u001b[1;32m   3612\u001b[0m             \u001b[0;32mif\u001b[0m \u001b[0mname\u001b[0m \u001b[0;32min\u001b[0m \u001b[0mself\u001b[0m\u001b[0;34m.\u001b[0m\u001b[0m_info_axis\u001b[0m\u001b[0;34m:\u001b[0m\u001b[0;34m\u001b[0m\u001b[0m\n",
      "\u001b[0;32m~/thinkful-jupyter/feedback-analysis/feedback-analysis/lib/python3.6/site-packages/pandas/core/accessor.py\u001b[0m in \u001b[0;36m__get__\u001b[0;34m(self, instance, owner)\u001b[0m\n\u001b[1;32m     52\u001b[0m             \u001b[0;31m# this ensures that Series.str.<method> is well defined\u001b[0m\u001b[0;34m\u001b[0m\u001b[0;34m\u001b[0m\u001b[0m\n\u001b[1;32m     53\u001b[0m             \u001b[0;32mreturn\u001b[0m \u001b[0mself\u001b[0m\u001b[0;34m.\u001b[0m\u001b[0maccessor_cls\u001b[0m\u001b[0;34m\u001b[0m\u001b[0m\n\u001b[0;32m---> 54\u001b[0;31m         \u001b[0;32mreturn\u001b[0m \u001b[0mself\u001b[0m\u001b[0;34m.\u001b[0m\u001b[0mconstruct_accessor\u001b[0m\u001b[0;34m(\u001b[0m\u001b[0minstance\u001b[0m\u001b[0;34m)\u001b[0m\u001b[0;34m\u001b[0m\u001b[0m\n\u001b[0m\u001b[1;32m     55\u001b[0m \u001b[0;34m\u001b[0m\u001b[0m\n\u001b[1;32m     56\u001b[0m     \u001b[0;32mdef\u001b[0m \u001b[0m__set__\u001b[0m\u001b[0;34m(\u001b[0m\u001b[0mself\u001b[0m\u001b[0;34m,\u001b[0m \u001b[0minstance\u001b[0m\u001b[0;34m,\u001b[0m \u001b[0mvalue\u001b[0m\u001b[0;34m)\u001b[0m\u001b[0;34m:\u001b[0m\u001b[0;34m\u001b[0m\u001b[0m\n",
      "\u001b[0;32m~/thinkful-jupyter/feedback-analysis/feedback-analysis/lib/python3.6/site-packages/pandas/core/strings.py\u001b[0m in \u001b[0;36m_make_accessor\u001b[0;34m(cls, data)\u001b[0m\n\u001b[1;32m   1908\u001b[0m             \u001b[0;31m# (instead of test for object dtype), but that isn't practical for\u001b[0m\u001b[0;34m\u001b[0m\u001b[0;34m\u001b[0m\u001b[0m\n\u001b[1;32m   1909\u001b[0m             \u001b[0;31m# performance reasons until we have a str dtype (GH 9343)\u001b[0m\u001b[0;34m\u001b[0m\u001b[0;34m\u001b[0m\u001b[0m\n\u001b[0;32m-> 1910\u001b[0;31m             raise AttributeError(\"Can only use .str accessor with string \"\n\u001b[0m\u001b[1;32m   1911\u001b[0m                                  \u001b[0;34m\"values, which use np.object_ dtype in \"\u001b[0m\u001b[0;34m\u001b[0m\u001b[0m\n\u001b[1;32m   1912\u001b[0m                                  \"pandas\")\n",
      "\u001b[0;31mAttributeError\u001b[0m: Can only use .str accessor with string values, which use np.object_ dtype in pandas"
     ]
    }
   ],
   "source": [
    "\n",
    "keywords = diff\n",
    "\n",
    "for key in keywords:\n",
    "    # Note that we add spaces around the key so that we're getting the word,\n",
    "    # not just pattern matching.\n",
    "    df[str(key)] = df.message.str.contains(\n",
    "        ' ' + str(key) + ' ',\n",
    "        case=False\n",
    "    )"
   ]
  },
  {
   "cell_type": "code",
   "execution_count": 118,
   "metadata": {},
   "outputs": [
    {
     "ename": "KeyError",
     "evalue": "\"['messaging' 'messes' 'metal' 'methe' 'microsofts' 'might' 'mind' 'mins'\\n 'minute' 'minutesmajor' 'misleading' 'missed' 'mistake' 'mode' 'model'\\n 'monkeys' 'morning' 'mostly' 'mother' 'moving' 'mp3' 'mp3s' 'muddy'\\n 'muffled' 'multiple' 'music' 'mute' 'nano' 'navigate' 'near' 'needless'\\n 'negatively' 'neither' 'ngage' 'nicer' 'night' 'nightmare' 'noises'\\n 'none' 'note' 'noted' 'nothing' 'noticed' 'numbers' 'odd' 'offering' 'oh'\\n 'ok' 'old' 'once' 'ones' 'onethis' 'onid' 'online' 'onlyi' 'opens'\\n 'operates' 'option' 'originally' 'os' 'override' 'pads' 'painful'\\n 'particular' 'party' 'pause' 'pay' 'pens' 'performed' 'periodically'\\n 'person' 'phonebattery' 'phonemy' 'phones2' 'photo' 'pitiful' 'places'\\n 'planning' 'plans' 'plantronincs' 'player' 'please' 'pleather' 'plugged'\\n 'point' 'poor' 'poorly' 'port' 'possesed' 'possibility' 'potentially'\\n 'practically' 'practice' 'preferably' 'pricing' 'prime' 'problemvery'\\n 'procedure' 'procedures' 'produce' 'products' 'promised' 'properly'\\n 'pros' 'provide' 'puff' 'pull' 'purcashed' 'purpose' 'push' 'pushed'\\n 'quiet' 'randomly' 'rare' 'rated' 'razor' 'reach' 'reaching' 'ready'\\n 'reason' 'reccommend' 'receipt' 'receive' 'receiving' 'recently'\\n 'recessed' 'recharge' 'recieve' 'recognizes' 'refund' 'refurb' 'refuse'\\n 'refused' 'regretted' 'relatively' 'reliability' 'remorse' 'renders'\\n 'reoccurebottom' 'replaced' 'replacementr' 'reset' 'resolution' 'respect'\\n 'restart' 'restocking' 'return' 'returned' 'returning' 'reverse' 'review'\\n 'riingtones' 'ringing' 'rip' 'ripped' 'risk' 'rocketed' 'row'\\n 'rubberpetroleum' 'runs' 'saggy' 'samsungcrap' 'save' 'saying' 'says'\\n 'scary' 'screens' 'screenthis' 'seat' 'securly' 'seeen' 'sensor' 'sent'\\n 'seperated' 'severe' 'share' 'shooters' 'short' 'shouldnt' 'shouting'\\n 'sim' 'sins' 'sitting' 'skip' 'slid' 'slow' 'slowly' 'smartphone' 'smell'\\n 'smoke' 'smoking' 'smudged' 'snap' 'snug' 'somehow' 'somewhere' 'son'\\n 'songs' 'soon' 'sorry' 'soundwise' 'sources' 'soyo' 'speakerphone'\\n 'specially' 'speed' 'spring' 'sprint' 'stand' 'standard' 'stari'\\n 'startac' 'starter' 'starts' 'stated' 'stay' 'steep' 'steer' 'stop'\\n 'stopped' 'stops' 'strange' 'strap' 'strength' 'stress' 'stuck' 'study'\\n 'stupid' 'sucked' 'sucks' 'sudden' 'suddenly' 'sunglasses' 'superfast'\\n 'support' 'supposedly' 'switch' 'sync' 'takes' 'talking' 'tape' 'tech'\\n 'telephone' 'tell' 'terrible' 'texas' 'text' 'theory' 'thereplacement'\\n 'thorn' 'threepack' 'threw' 'tick' 'ticking' 'tied' 'tinny' 'today'\\n 'toilet' 'told' 'tones' 'top' 'totally' 'touch' 'touches' 'tracfone'\\n 'tracking' 'trash' 'tricky' 'truly' 'trust' 'tungsten' 'turned' 'ugly'\\n 'unacceptable' 'unacceptableunless' 'unacceptible' 'unbearable'\\n 'uncomfortable' 'understand' 'unfortunately' 'unhappy' 'unintelligible'\\n 'unit' 'units' 'unknown' 'unless' 'unreliable' 'unsatisfactory' 'until'\\n 'unusable' 'update' 'upgrade' 'upload' 'upstairs' 'useless' 'utter'\\n 'utterly' 'v115g' 'v265' 'v3c' 'v3i' 'vehicle' 'verizons' 'videos'\\n 'visor' 'vx9900' 'waaay' 'wake' 'walked' 'warning' 'warranty' 'waste'\\n 'wasted' 'wasting' 'weak' 'wearing' 'website' 'week' 'weird' 'whatsoever'\\n 'whine' 'whistles' 'wifi' 'wind' 'window' 'windows' 'wiping' 'wired'\\n 'wirefly' 'wires' 'wish' 'wit' 'wobbly' 'wonder' 'wooden' 'word' 'worst'\\n 'worthless' 'wrong' 'wrongfirst' 'yell' 'zero'] not in index\"",
     "output_type": "error",
     "traceback": [
      "\u001b[0;31m---------------------------------------------------------------------------\u001b[0m",
      "\u001b[0;31mKeyError\u001b[0m                                  Traceback (most recent call last)",
      "\u001b[0;32m<ipython-input-118-00566323b74d>\u001b[0m in \u001b[0;36m<module>\u001b[0;34m()\u001b[0m\n\u001b[0;32m----> 1\u001b[0;31m \u001b[0mdata\u001b[0m \u001b[0;34m=\u001b[0m \u001b[0mnew\u001b[0m\u001b[0;34m[\u001b[0m\u001b[0mkeywords\u001b[0m\u001b[0;34m]\u001b[0m\u001b[0;34m\u001b[0m\u001b[0m\n\u001b[0m\u001b[1;32m      2\u001b[0m \u001b[0mtarget\u001b[0m \u001b[0;34m=\u001b[0m \u001b[0mnew\u001b[0m\u001b[0;34m[\u001b[0m\u001b[0;34m'negative'\u001b[0m\u001b[0;34m]\u001b[0m\u001b[0;34m\u001b[0m\u001b[0m\n",
      "\u001b[0;32m~/thinkful-jupyter/feedback-analysis/feedback-analysis/lib/python3.6/site-packages/pandas/core/frame.py\u001b[0m in \u001b[0;36m__getitem__\u001b[0;34m(self, key)\u001b[0m\n\u001b[1;32m   2131\u001b[0m         \u001b[0;32mif\u001b[0m \u001b[0misinstance\u001b[0m\u001b[0;34m(\u001b[0m\u001b[0mkey\u001b[0m\u001b[0;34m,\u001b[0m \u001b[0;34m(\u001b[0m\u001b[0mSeries\u001b[0m\u001b[0;34m,\u001b[0m \u001b[0mnp\u001b[0m\u001b[0;34m.\u001b[0m\u001b[0mndarray\u001b[0m\u001b[0;34m,\u001b[0m \u001b[0mIndex\u001b[0m\u001b[0;34m,\u001b[0m \u001b[0mlist\u001b[0m\u001b[0;34m)\u001b[0m\u001b[0;34m)\u001b[0m\u001b[0;34m:\u001b[0m\u001b[0;34m\u001b[0m\u001b[0m\n\u001b[1;32m   2132\u001b[0m             \u001b[0;31m# either boolean or fancy integer index\u001b[0m\u001b[0;34m\u001b[0m\u001b[0;34m\u001b[0m\u001b[0m\n\u001b[0;32m-> 2133\u001b[0;31m             \u001b[0;32mreturn\u001b[0m \u001b[0mself\u001b[0m\u001b[0;34m.\u001b[0m\u001b[0m_getitem_array\u001b[0m\u001b[0;34m(\u001b[0m\u001b[0mkey\u001b[0m\u001b[0;34m)\u001b[0m\u001b[0;34m\u001b[0m\u001b[0m\n\u001b[0m\u001b[1;32m   2134\u001b[0m         \u001b[0;32melif\u001b[0m \u001b[0misinstance\u001b[0m\u001b[0;34m(\u001b[0m\u001b[0mkey\u001b[0m\u001b[0;34m,\u001b[0m \u001b[0mDataFrame\u001b[0m\u001b[0;34m)\u001b[0m\u001b[0;34m:\u001b[0m\u001b[0;34m\u001b[0m\u001b[0m\n\u001b[1;32m   2135\u001b[0m             \u001b[0;32mreturn\u001b[0m \u001b[0mself\u001b[0m\u001b[0;34m.\u001b[0m\u001b[0m_getitem_frame\u001b[0m\u001b[0;34m(\u001b[0m\u001b[0mkey\u001b[0m\u001b[0;34m)\u001b[0m\u001b[0;34m\u001b[0m\u001b[0m\n",
      "\u001b[0;32m~/thinkful-jupyter/feedback-analysis/feedback-analysis/lib/python3.6/site-packages/pandas/core/frame.py\u001b[0m in \u001b[0;36m_getitem_array\u001b[0;34m(self, key)\u001b[0m\n\u001b[1;32m   2175\u001b[0m             \u001b[0;32mreturn\u001b[0m \u001b[0mself\u001b[0m\u001b[0;34m.\u001b[0m\u001b[0m_take\u001b[0m\u001b[0;34m(\u001b[0m\u001b[0mindexer\u001b[0m\u001b[0;34m,\u001b[0m \u001b[0maxis\u001b[0m\u001b[0;34m=\u001b[0m\u001b[0;36m0\u001b[0m\u001b[0;34m,\u001b[0m \u001b[0mconvert\u001b[0m\u001b[0;34m=\u001b[0m\u001b[0;32mFalse\u001b[0m\u001b[0;34m)\u001b[0m\u001b[0;34m\u001b[0m\u001b[0m\n\u001b[1;32m   2176\u001b[0m         \u001b[0;32melse\u001b[0m\u001b[0;34m:\u001b[0m\u001b[0;34m\u001b[0m\u001b[0m\n\u001b[0;32m-> 2177\u001b[0;31m             \u001b[0mindexer\u001b[0m \u001b[0;34m=\u001b[0m \u001b[0mself\u001b[0m\u001b[0;34m.\u001b[0m\u001b[0mloc\u001b[0m\u001b[0;34m.\u001b[0m\u001b[0m_convert_to_indexer\u001b[0m\u001b[0;34m(\u001b[0m\u001b[0mkey\u001b[0m\u001b[0;34m,\u001b[0m \u001b[0maxis\u001b[0m\u001b[0;34m=\u001b[0m\u001b[0;36m1\u001b[0m\u001b[0;34m)\u001b[0m\u001b[0;34m\u001b[0m\u001b[0m\n\u001b[0m\u001b[1;32m   2178\u001b[0m             \u001b[0;32mreturn\u001b[0m \u001b[0mself\u001b[0m\u001b[0;34m.\u001b[0m\u001b[0m_take\u001b[0m\u001b[0;34m(\u001b[0m\u001b[0mindexer\u001b[0m\u001b[0;34m,\u001b[0m \u001b[0maxis\u001b[0m\u001b[0;34m=\u001b[0m\u001b[0;36m1\u001b[0m\u001b[0;34m,\u001b[0m \u001b[0mconvert\u001b[0m\u001b[0;34m=\u001b[0m\u001b[0;32mTrue\u001b[0m\u001b[0;34m)\u001b[0m\u001b[0;34m\u001b[0m\u001b[0m\n\u001b[1;32m   2179\u001b[0m \u001b[0;34m\u001b[0m\u001b[0m\n",
      "\u001b[0;32m~/thinkful-jupyter/feedback-analysis/feedback-analysis/lib/python3.6/site-packages/pandas/core/indexing.py\u001b[0m in \u001b[0;36m_convert_to_indexer\u001b[0;34m(self, obj, axis, is_setter)\u001b[0m\n\u001b[1;32m   1267\u001b[0m                 \u001b[0;32mif\u001b[0m \u001b[0mmask\u001b[0m\u001b[0;34m.\u001b[0m\u001b[0many\u001b[0m\u001b[0;34m(\u001b[0m\u001b[0;34m)\u001b[0m\u001b[0;34m:\u001b[0m\u001b[0;34m\u001b[0m\u001b[0m\n\u001b[1;32m   1268\u001b[0m                     raise KeyError('{mask} not in index'\n\u001b[0;32m-> 1269\u001b[0;31m                                    .format(mask=objarr[mask]))\n\u001b[0m\u001b[1;32m   1270\u001b[0m \u001b[0;34m\u001b[0m\u001b[0m\n\u001b[1;32m   1271\u001b[0m                 \u001b[0;32mreturn\u001b[0m \u001b[0m_values_from_object\u001b[0m\u001b[0;34m(\u001b[0m\u001b[0mindexer\u001b[0m\u001b[0;34m)\u001b[0m\u001b[0;34m\u001b[0m\u001b[0m\n",
      "\u001b[0;31mKeyError\u001b[0m: \"['messaging' 'messes' 'metal' 'methe' 'microsofts' 'might' 'mind' 'mins'\\n 'minute' 'minutesmajor' 'misleading' 'missed' 'mistake' 'mode' 'model'\\n 'monkeys' 'morning' 'mostly' 'mother' 'moving' 'mp3' 'mp3s' 'muddy'\\n 'muffled' 'multiple' 'music' 'mute' 'nano' 'navigate' 'near' 'needless'\\n 'negatively' 'neither' 'ngage' 'nicer' 'night' 'nightmare' 'noises'\\n 'none' 'note' 'noted' 'nothing' 'noticed' 'numbers' 'odd' 'offering' 'oh'\\n 'ok' 'old' 'once' 'ones' 'onethis' 'onid' 'online' 'onlyi' 'opens'\\n 'operates' 'option' 'originally' 'os' 'override' 'pads' 'painful'\\n 'particular' 'party' 'pause' 'pay' 'pens' 'performed' 'periodically'\\n 'person' 'phonebattery' 'phonemy' 'phones2' 'photo' 'pitiful' 'places'\\n 'planning' 'plans' 'plantronincs' 'player' 'please' 'pleather' 'plugged'\\n 'point' 'poor' 'poorly' 'port' 'possesed' 'possibility' 'potentially'\\n 'practically' 'practice' 'preferably' 'pricing' 'prime' 'problemvery'\\n 'procedure' 'procedures' 'produce' 'products' 'promised' 'properly'\\n 'pros' 'provide' 'puff' 'pull' 'purcashed' 'purpose' 'push' 'pushed'\\n 'quiet' 'randomly' 'rare' 'rated' 'razor' 'reach' 'reaching' 'ready'\\n 'reason' 'reccommend' 'receipt' 'receive' 'receiving' 'recently'\\n 'recessed' 'recharge' 'recieve' 'recognizes' 'refund' 'refurb' 'refuse'\\n 'refused' 'regretted' 'relatively' 'reliability' 'remorse' 'renders'\\n 'reoccurebottom' 'replaced' 'replacementr' 'reset' 'resolution' 'respect'\\n 'restart' 'restocking' 'return' 'returned' 'returning' 'reverse' 'review'\\n 'riingtones' 'ringing' 'rip' 'ripped' 'risk' 'rocketed' 'row'\\n 'rubberpetroleum' 'runs' 'saggy' 'samsungcrap' 'save' 'saying' 'says'\\n 'scary' 'screens' 'screenthis' 'seat' 'securly' 'seeen' 'sensor' 'sent'\\n 'seperated' 'severe' 'share' 'shooters' 'short' 'shouldnt' 'shouting'\\n 'sim' 'sins' 'sitting' 'skip' 'slid' 'slow' 'slowly' 'smartphone' 'smell'\\n 'smoke' 'smoking' 'smudged' 'snap' 'snug' 'somehow' 'somewhere' 'son'\\n 'songs' 'soon' 'sorry' 'soundwise' 'sources' 'soyo' 'speakerphone'\\n 'specially' 'speed' 'spring' 'sprint' 'stand' 'standard' 'stari'\\n 'startac' 'starter' 'starts' 'stated' 'stay' 'steep' 'steer' 'stop'\\n 'stopped' 'stops' 'strange' 'strap' 'strength' 'stress' 'stuck' 'study'\\n 'stupid' 'sucked' 'sucks' 'sudden' 'suddenly' 'sunglasses' 'superfast'\\n 'support' 'supposedly' 'switch' 'sync' 'takes' 'talking' 'tape' 'tech'\\n 'telephone' 'tell' 'terrible' 'texas' 'text' 'theory' 'thereplacement'\\n 'thorn' 'threepack' 'threw' 'tick' 'ticking' 'tied' 'tinny' 'today'\\n 'toilet' 'told' 'tones' 'top' 'totally' 'touch' 'touches' 'tracfone'\\n 'tracking' 'trash' 'tricky' 'truly' 'trust' 'tungsten' 'turned' 'ugly'\\n 'unacceptable' 'unacceptableunless' 'unacceptible' 'unbearable'\\n 'uncomfortable' 'understand' 'unfortunately' 'unhappy' 'unintelligible'\\n 'unit' 'units' 'unknown' 'unless' 'unreliable' 'unsatisfactory' 'until'\\n 'unusable' 'update' 'upgrade' 'upload' 'upstairs' 'useless' 'utter'\\n 'utterly' 'v115g' 'v265' 'v3c' 'v3i' 'vehicle' 'verizons' 'videos'\\n 'visor' 'vx9900' 'waaay' 'wake' 'walked' 'warning' 'warranty' 'waste'\\n 'wasted' 'wasting' 'weak' 'wearing' 'website' 'week' 'weird' 'whatsoever'\\n 'whine' 'whistles' 'wifi' 'wind' 'window' 'windows' 'wiping' 'wired'\\n 'wirefly' 'wires' 'wish' 'wit' 'wobbly' 'wonder' 'wooden' 'word' 'worst'\\n 'worthless' 'wrong' 'wrongfirst' 'yell' 'zero'] not in index\""
     ]
    }
   ],
   "source": [
    "data = new[keywords]\n",
    "target = new['negative']"
   ]
  },
  {
   "cell_type": "code",
   "execution_count": 119,
   "metadata": {},
   "outputs": [
    {
     "name": "stdout",
     "output_type": "stream",
     "text": [
      "Number of mislabeled points out of a total 748 points : 3\n",
      "Accuracy: 99.6%\n"
     ]
    }
   ],
   "source": [
    "# Fit our model to the data.\n",
    "bnb.fit(data, target)\n",
    "\n",
    "# Classify, storing the result in a new variable.\n",
    "y_pred = bnb.predict(data)\n",
    "\n",
    "# Display our results.\n",
    "print(\"Number of mislabeled points out of a total {} points : {}\\nAccuracy: {}%\".format(\n",
    "    data.shape[0],\n",
    "    (target != y_pred).sum(), round((1 - (target != y_pred).sum()/data.shape[0]) * 100, 2)\n",
    "))"
   ]
  },
  {
   "cell_type": "code",
   "execution_count": null,
   "metadata": {},
   "outputs": [],
   "source": []
  },
  {
   "cell_type": "code",
   "execution_count": null,
   "metadata": {},
   "outputs": [],
   "source": []
  }
 ],
 "metadata": {
  "kernelspec": {
   "display_name": "feedback-analysis",
   "language": "python",
   "name": "feedback-analysis"
  },
  "language_info": {
   "codemirror_mode": {
    "name": "ipython",
    "version": 3
   },
   "file_extension": ".py",
   "mimetype": "text/x-python",
   "name": "python",
   "nbconvert_exporter": "python",
   "pygments_lexer": "ipython3",
   "version": "3.6.4"
  }
 },
 "nbformat": 4,
 "nbformat_minor": 2
}
